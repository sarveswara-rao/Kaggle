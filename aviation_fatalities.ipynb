{
  "nbformat": 4,
  "nbformat_minor": 0,
  "metadata": {
    "colab": {
      "name": "aviation_fatalities.ipynb",
      "version": "0.3.2",
      "provenance": [],
      "collapsed_sections": [],
      "include_colab_link": true
    },
    "kernelspec": {
      "name": "python3",
      "display_name": "Python 3"
    }
  },
  "cells": [
    {
      "cell_type": "markdown",
      "metadata": {
        "id": "view-in-github",
        "colab_type": "text"
      },
      "source": [
        "<a href=\"https://colab.research.google.com/github/sarveswararao-cs/Kaggle/blob/master/aviation_fatalities.ipynb\" target=\"_parent\"><img src=\"https://colab.research.google.com/assets/colab-badge.svg\" alt=\"Open In Colab\"/></a>"
      ]
    },
    {
      "metadata": {
        "id": "Y3NM6_cL54-2",
        "colab_type": "code",
        "colab": {}
      },
      "cell_type": "code",
      "source": [
        "!pip install -U -q PyDrive\n",
        "from pydrive.auth import GoogleAuth\n",
        "from pydrive.drive import GoogleDrive\n",
        "from google.colab import auth\n",
        "from oauth2client.client import GoogleCredentials\n",
        "import os\n",
        "import pandas as pd\n",
        "auth.authenticate_user()\n",
        "gauth = GoogleAuth()\n",
        "gauth.credentials = GoogleCredentials.get_application_default()\n",
        "drive = GoogleDrive(gauth)\n",
        "\n",
        "train_downloaded = drive.CreateFile({'id': '1SzuFoIgicCUy-wvi3X88EnwdmehLAijd'})\n",
        "train_downloaded.GetContentFile('train.csv')\n",
        "test_downloaded = drive.CreateFile({'id': '106-BUecmSzz0-PTxk-cRu_CTlkS83cLA'})\n",
        "test_downloaded.GetContentFile('test.csv') "
      ],
      "execution_count": 0,
      "outputs": []
    },
    {
      "metadata": {
        "id": "0C5qGgYN5-1V",
        "colab_type": "code",
        "colab": {}
      },
      "cell_type": "code",
      "source": [
        "import pandas as pd\n",
        "import numpy as np\n",
        "\n",
        "df_train = pd.read_csv('train.csv')"
      ],
      "execution_count": 0,
      "outputs": []
    },
    {
      "metadata": {
        "id": "vqfqCTu3rvbQ",
        "colab_type": "code",
        "colab": {
          "base_uri": "https://localhost:8080/",
          "height": 190
        },
        "outputId": "982f936b-7f58-439e-825d-97a4ed1b0f69"
      },
      "cell_type": "code",
      "source": [
        "df_train.head(3)"
      ],
      "execution_count": 4,
      "outputs": [
        {
          "output_type": "execute_result",
          "data": {
            "text/html": [
              "<div>\n",
              "<style scoped>\n",
              "    .dataframe tbody tr th:only-of-type {\n",
              "        vertical-align: middle;\n",
              "    }\n",
              "\n",
              "    .dataframe tbody tr th {\n",
              "        vertical-align: top;\n",
              "    }\n",
              "\n",
              "    .dataframe thead th {\n",
              "        text-align: right;\n",
              "    }\n",
              "</style>\n",
              "<table border=\"1\" class=\"dataframe\">\n",
              "  <thead>\n",
              "    <tr style=\"text-align: right;\">\n",
              "      <th></th>\n",
              "      <th>crew</th>\n",
              "      <th>experiment</th>\n",
              "      <th>time</th>\n",
              "      <th>seat</th>\n",
              "      <th>eeg_fp1</th>\n",
              "      <th>eeg_f7</th>\n",
              "      <th>eeg_f8</th>\n",
              "      <th>eeg_t4</th>\n",
              "      <th>eeg_t6</th>\n",
              "      <th>eeg_t5</th>\n",
              "      <th>...</th>\n",
              "      <th>eeg_c4</th>\n",
              "      <th>eeg_p4</th>\n",
              "      <th>eeg_poz</th>\n",
              "      <th>eeg_c3</th>\n",
              "      <th>eeg_cz</th>\n",
              "      <th>eeg_o2</th>\n",
              "      <th>ecg</th>\n",
              "      <th>r</th>\n",
              "      <th>gsr</th>\n",
              "      <th>event</th>\n",
              "    </tr>\n",
              "  </thead>\n",
              "  <tbody>\n",
              "    <tr>\n",
              "      <th>0</th>\n",
              "      <td>1</td>\n",
              "      <td>CA</td>\n",
              "      <td>0.011719</td>\n",
              "      <td>1</td>\n",
              "      <td>-5.28545</td>\n",
              "      <td>26.775801</td>\n",
              "      <td>-9.52731</td>\n",
              "      <td>-12.793200</td>\n",
              "      <td>16.717800</td>\n",
              "      <td>33.737499</td>\n",
              "      <td>...</td>\n",
              "      <td>37.368999</td>\n",
              "      <td>17.437599</td>\n",
              "      <td>19.201900</td>\n",
              "      <td>20.5968</td>\n",
              "      <td>-3.95115</td>\n",
              "      <td>14.5076</td>\n",
              "      <td>-4520.0</td>\n",
              "      <td>817.705994</td>\n",
              "      <td>388.829987</td>\n",
              "      <td>A</td>\n",
              "    </tr>\n",
              "    <tr>\n",
              "      <th>1</th>\n",
              "      <td>1</td>\n",
              "      <td>CA</td>\n",
              "      <td>0.015625</td>\n",
              "      <td>1</td>\n",
              "      <td>-2.42842</td>\n",
              "      <td>28.430901</td>\n",
              "      <td>-9.32351</td>\n",
              "      <td>-3.757230</td>\n",
              "      <td>15.969300</td>\n",
              "      <td>30.443600</td>\n",
              "      <td>...</td>\n",
              "      <td>31.170799</td>\n",
              "      <td>19.399700</td>\n",
              "      <td>19.689501</td>\n",
              "      <td>21.3547</td>\n",
              "      <td>1.33212</td>\n",
              "      <td>17.7502</td>\n",
              "      <td>-4520.0</td>\n",
              "      <td>817.705994</td>\n",
              "      <td>388.829987</td>\n",
              "      <td>A</td>\n",
              "    </tr>\n",
              "    <tr>\n",
              "      <th>2</th>\n",
              "      <td>1</td>\n",
              "      <td>CA</td>\n",
              "      <td>0.019531</td>\n",
              "      <td>1</td>\n",
              "      <td>10.67150</td>\n",
              "      <td>30.420200</td>\n",
              "      <td>15.35070</td>\n",
              "      <td>24.724001</td>\n",
              "      <td>16.143101</td>\n",
              "      <td>32.142799</td>\n",
              "      <td>...</td>\n",
              "      <td>-12.012600</td>\n",
              "      <td>19.396299</td>\n",
              "      <td>23.171700</td>\n",
              "      <td>22.4076</td>\n",
              "      <td>1.53786</td>\n",
              "      <td>22.2470</td>\n",
              "      <td>-4520.0</td>\n",
              "      <td>817.705994</td>\n",
              "      <td>388.829987</td>\n",
              "      <td>A</td>\n",
              "    </tr>\n",
              "  </tbody>\n",
              "</table>\n",
              "<p>3 rows × 28 columns</p>\n",
              "</div>"
            ],
            "text/plain": [
              "   crew experiment      time  seat   eeg_fp1     eeg_f7    eeg_f8     eeg_t4  \\\n",
              "0     1         CA  0.011719     1  -5.28545  26.775801  -9.52731 -12.793200   \n",
              "1     1         CA  0.015625     1  -2.42842  28.430901  -9.32351  -3.757230   \n",
              "2     1         CA  0.019531     1  10.67150  30.420200  15.35070  24.724001   \n",
              "\n",
              "      eeg_t6     eeg_t5  ...       eeg_c4     eeg_p4    eeg_poz   eeg_c3  \\\n",
              "0  16.717800  33.737499  ...    37.368999  17.437599  19.201900  20.5968   \n",
              "1  15.969300  30.443600  ...    31.170799  19.399700  19.689501  21.3547   \n",
              "2  16.143101  32.142799  ...   -12.012600  19.396299  23.171700  22.4076   \n",
              "\n",
              "    eeg_cz   eeg_o2     ecg           r         gsr  event  \n",
              "0 -3.95115  14.5076 -4520.0  817.705994  388.829987      A  \n",
              "1  1.33212  17.7502 -4520.0  817.705994  388.829987      A  \n",
              "2  1.53786  22.2470 -4520.0  817.705994  388.829987      A  \n",
              "\n",
              "[3 rows x 28 columns]"
            ]
          },
          "metadata": {
            "tags": []
          },
          "execution_count": 4
        }
      ]
    },
    {
      "metadata": {
        "id": "HU4nFSoiryOv",
        "colab_type": "code",
        "colab": {}
      },
      "cell_type": "code",
      "source": [
        "from sklearn.model_selection import train_test_split\n",
        "labels = df_train.event.astype(\"category\").cat.codes"
      ],
      "execution_count": 0,
      "outputs": []
    },
    {
      "metadata": {
        "id": "u8NitCuu1mBY",
        "colab_type": "code",
        "colab": {
          "base_uri": "https://localhost:8080/",
          "height": 159
        },
        "outputId": "66fafbd8-a312-41f2-c694-99f2fc80c6a5"
      },
      "cell_type": "code",
      "source": [
        "df_train.head(2)"
      ],
      "execution_count": 8,
      "outputs": [
        {
          "output_type": "execute_result",
          "data": {
            "text/html": [
              "<div>\n",
              "<style scoped>\n",
              "    .dataframe tbody tr th:only-of-type {\n",
              "        vertical-align: middle;\n",
              "    }\n",
              "\n",
              "    .dataframe tbody tr th {\n",
              "        vertical-align: top;\n",
              "    }\n",
              "\n",
              "    .dataframe thead th {\n",
              "        text-align: right;\n",
              "    }\n",
              "</style>\n",
              "<table border=\"1\" class=\"dataframe\">\n",
              "  <thead>\n",
              "    <tr style=\"text-align: right;\">\n",
              "      <th></th>\n",
              "      <th>crew</th>\n",
              "      <th>experiment</th>\n",
              "      <th>time</th>\n",
              "      <th>seat</th>\n",
              "      <th>eeg_fp1</th>\n",
              "      <th>eeg_f7</th>\n",
              "      <th>eeg_f8</th>\n",
              "      <th>eeg_t4</th>\n",
              "      <th>eeg_t6</th>\n",
              "      <th>eeg_t5</th>\n",
              "      <th>...</th>\n",
              "      <th>eeg_c4</th>\n",
              "      <th>eeg_p4</th>\n",
              "      <th>eeg_poz</th>\n",
              "      <th>eeg_c3</th>\n",
              "      <th>eeg_cz</th>\n",
              "      <th>eeg_o2</th>\n",
              "      <th>ecg</th>\n",
              "      <th>r</th>\n",
              "      <th>gsr</th>\n",
              "      <th>event</th>\n",
              "    </tr>\n",
              "  </thead>\n",
              "  <tbody>\n",
              "    <tr>\n",
              "      <th>0</th>\n",
              "      <td>1</td>\n",
              "      <td>CA</td>\n",
              "      <td>0.011719</td>\n",
              "      <td>1</td>\n",
              "      <td>-5.28545</td>\n",
              "      <td>26.775801</td>\n",
              "      <td>-9.52731</td>\n",
              "      <td>-12.79320</td>\n",
              "      <td>16.7178</td>\n",
              "      <td>33.737499</td>\n",
              "      <td>...</td>\n",
              "      <td>37.368999</td>\n",
              "      <td>17.437599</td>\n",
              "      <td>19.201900</td>\n",
              "      <td>20.5968</td>\n",
              "      <td>-3.95115</td>\n",
              "      <td>14.5076</td>\n",
              "      <td>-4520.0</td>\n",
              "      <td>817.705994</td>\n",
              "      <td>388.829987</td>\n",
              "      <td>A</td>\n",
              "    </tr>\n",
              "    <tr>\n",
              "      <th>1</th>\n",
              "      <td>1</td>\n",
              "      <td>CA</td>\n",
              "      <td>0.015625</td>\n",
              "      <td>1</td>\n",
              "      <td>-2.42842</td>\n",
              "      <td>28.430901</td>\n",
              "      <td>-9.32351</td>\n",
              "      <td>-3.75723</td>\n",
              "      <td>15.9693</td>\n",
              "      <td>30.443600</td>\n",
              "      <td>...</td>\n",
              "      <td>31.170799</td>\n",
              "      <td>19.399700</td>\n",
              "      <td>19.689501</td>\n",
              "      <td>21.3547</td>\n",
              "      <td>1.33212</td>\n",
              "      <td>17.7502</td>\n",
              "      <td>-4520.0</td>\n",
              "      <td>817.705994</td>\n",
              "      <td>388.829987</td>\n",
              "      <td>A</td>\n",
              "    </tr>\n",
              "  </tbody>\n",
              "</table>\n",
              "<p>2 rows × 28 columns</p>\n",
              "</div>"
            ],
            "text/plain": [
              "   crew experiment      time  seat  eeg_fp1     eeg_f7   eeg_f8    eeg_t4  \\\n",
              "0     1         CA  0.011719     1 -5.28545  26.775801 -9.52731 -12.79320   \n",
              "1     1         CA  0.015625     1 -2.42842  28.430901 -9.32351  -3.75723   \n",
              "\n",
              "    eeg_t6     eeg_t5  ...       eeg_c4     eeg_p4    eeg_poz   eeg_c3  \\\n",
              "0  16.7178  33.737499  ...    37.368999  17.437599  19.201900  20.5968   \n",
              "1  15.9693  30.443600  ...    31.170799  19.399700  19.689501  21.3547   \n",
              "\n",
              "    eeg_cz   eeg_o2     ecg           r         gsr  event  \n",
              "0 -3.95115  14.5076 -4520.0  817.705994  388.829987      A  \n",
              "1  1.33212  17.7502 -4520.0  817.705994  388.829987      A  \n",
              "\n",
              "[2 rows x 28 columns]"
            ]
          },
          "metadata": {
            "tags": []
          },
          "execution_count": 8
        }
      ]
    },
    {
      "metadata": {
        "id": "A4laGi-k3mgo",
        "colab_type": "code",
        "colab": {}
      },
      "cell_type": "code",
      "source": [
        "X = df_train.iloc[:, 0:27]\n",
        "X_new = pd.get_dummies(X, columns = [\"experiment\"])"
      ],
      "execution_count": 0,
      "outputs": []
    },
    {
      "metadata": {
        "id": "EbJGkK2lspkO",
        "colab_type": "code",
        "colab": {}
      },
      "cell_type": "code",
      "source": [
        "X_train, X_test, y_train, y_test  = train_test_split(X_new, labels, test_size = 0.4, random_state = 1)"
      ],
      "execution_count": 0,
      "outputs": []
    },
    {
      "metadata": {
        "id": "VTwxOmG019VU",
        "colab_type": "code",
        "colab": {
          "base_uri": "https://localhost:8080/",
          "height": 189
        },
        "outputId": "dde5dfd6-827a-44c4-8bea-52b624512f5e"
      },
      "cell_type": "code",
      "source": [
        ""
      ],
      "execution_count": 1,
      "outputs": [
        {
          "output_type": "error",
          "ename": "NameError",
          "evalue": "ignored",
          "traceback": [
            "\u001b[0;31m---------------------------------------------------------------------------\u001b[0m",
            "\u001b[0;31mNameError\u001b[0m                                 Traceback (most recent call last)",
            "\u001b[0;32m<ipython-input-1-fd244c528d4c>\u001b[0m in \u001b[0;36m<module>\u001b[0;34m()\u001b[0m\n\u001b[0;32m----> 1\u001b[0;31m \u001b[0mX_train_new\u001b[0m \u001b[0;34m=\u001b[0m \u001b[0mpd\u001b[0m\u001b[0;34m.\u001b[0m\u001b[0mget_dummies\u001b[0m\u001b[0;34m(\u001b[0m\u001b[0mX_train\u001b[0m\u001b[0;34m,\u001b[0m \u001b[0mcolumns\u001b[0m \u001b[0;34m=\u001b[0m \u001b[0;34m[\u001b[0m\u001b[0;34m\"experiment\"\u001b[0m\u001b[0;34m]\u001b[0m\u001b[0;34m)\u001b[0m\u001b[0;34m\u001b[0m\u001b[0;34m\u001b[0m\u001b[0m\n\u001b[0m\u001b[1;32m      2\u001b[0m \u001b[0mX_test_new\u001b[0m \u001b[0;34m=\u001b[0m \u001b[0mpd\u001b[0m\u001b[0;34m.\u001b[0m\u001b[0mget_dummies\u001b[0m\u001b[0;34m(\u001b[0m\u001b[0mX_test\u001b[0m\u001b[0;34m,\u001b[0m \u001b[0mcolumns\u001b[0m \u001b[0;34m=\u001b[0m \u001b[0;34m[\u001b[0m\u001b[0;34m\"experiment\"\u001b[0m\u001b[0;34m]\u001b[0m\u001b[0;34m)\u001b[0m\u001b[0;34m\u001b[0m\u001b[0;34m\u001b[0m\u001b[0m\n",
            "\u001b[0;31mNameError\u001b[0m: name 'pd' is not defined"
          ]
        }
      ]
    },
    {
      "metadata": {
        "id": "JQIpN7Jsurs7",
        "colab_type": "code",
        "colab": {
          "base_uri": "https://localhost:8080/",
          "height": 35
        },
        "outputId": "0c083965-77a3-475e-b301-0b187a66a9f4"
      },
      "cell_type": "code",
      "source": [
        "X_train.shape"
      ],
      "execution_count": 11,
      "outputs": [
        {
          "output_type": "execute_result",
          "data": {
            "text/plain": [
              "(2920452, 29)"
            ]
          },
          "metadata": {
            "tags": []
          },
          "execution_count": 11
        }
      ]
    },
    {
      "metadata": {
        "id": "DkmlYEaRt0K8",
        "colab_type": "code",
        "colab": {
          "base_uri": "https://localhost:8080/",
          "height": 35
        },
        "outputId": "31508f52-3f06-400f-b9ca-0f51ee553f2f"
      },
      "cell_type": "code",
      "source": [
        "X_test.shape"
      ],
      "execution_count": 12,
      "outputs": [
        {
          "output_type": "execute_result",
          "data": {
            "text/plain": [
              "(1946969, 29)"
            ]
          },
          "metadata": {
            "tags": []
          },
          "execution_count": 12
        }
      ]
    },
    {
      "metadata": {
        "id": "D4LZrLnBuvVr",
        "colab_type": "code",
        "colab": {
          "base_uri": "https://localhost:8080/",
          "height": 35
        },
        "outputId": "dfe2373e-2a2c-4e65-dd97-1cf18f12735d"
      },
      "cell_type": "code",
      "source": [
        "y_test.head(5)\n",
        "y_test.shape"
      ],
      "execution_count": 13,
      "outputs": [
        {
          "output_type": "execute_result",
          "data": {
            "text/plain": [
              "(1946969,)"
            ]
          },
          "metadata": {
            "tags": []
          },
          "execution_count": 13
        }
      ]
    },
    {
      "metadata": {
        "id": "kMlstjUOuy9Y",
        "colab_type": "code",
        "colab": {}
      },
      "cell_type": "code",
      "source": [
        "import tensorflow as tf\n",
        "from tensorflow import keras"
      ],
      "execution_count": 0,
      "outputs": []
    },
    {
      "metadata": {
        "id": "mn3hJ5f8u5jp",
        "colab_type": "code",
        "colab": {}
      },
      "cell_type": "code",
      "source": [
        "model = keras.Sequential([\n",
        "    keras.layers.Dense(128, activation=tf.nn.relu),\n",
        "    keras.layers.Dense(128, activation=tf.nn.relu),\n",
        "    keras.layers.Dense(4, activation=tf.nn.softmax)\n",
        "])"
      ],
      "execution_count": 0,
      "outputs": []
    },
    {
      "metadata": {
        "id": "siAndZJYx4qb",
        "colab_type": "code",
        "colab": {
          "base_uri": "https://localhost:8080/",
          "height": 251
        },
        "outputId": "561ed5a4-fce4-433c-bfb7-c141dd82a6bc"
      },
      "cell_type": "code",
      "source": [
        "X_train.head(5)"
      ],
      "execution_count": 20,
      "outputs": [
        {
          "output_type": "execute_result",
          "data": {
            "text/html": [
              "<div>\n",
              "<style scoped>\n",
              "    .dataframe tbody tr th:only-of-type {\n",
              "        vertical-align: middle;\n",
              "    }\n",
              "\n",
              "    .dataframe tbody tr th {\n",
              "        vertical-align: top;\n",
              "    }\n",
              "\n",
              "    .dataframe thead th {\n",
              "        text-align: right;\n",
              "    }\n",
              "</style>\n",
              "<table border=\"1\" class=\"dataframe\">\n",
              "  <thead>\n",
              "    <tr style=\"text-align: right;\">\n",
              "      <th></th>\n",
              "      <th>crew</th>\n",
              "      <th>time</th>\n",
              "      <th>seat</th>\n",
              "      <th>eeg_fp1</th>\n",
              "      <th>eeg_f7</th>\n",
              "      <th>eeg_f8</th>\n",
              "      <th>eeg_t4</th>\n",
              "      <th>eeg_t6</th>\n",
              "      <th>eeg_t5</th>\n",
              "      <th>eeg_t3</th>\n",
              "      <th>...</th>\n",
              "      <th>eeg_poz</th>\n",
              "      <th>eeg_c3</th>\n",
              "      <th>eeg_cz</th>\n",
              "      <th>eeg_o2</th>\n",
              "      <th>ecg</th>\n",
              "      <th>r</th>\n",
              "      <th>gsr</th>\n",
              "      <th>experiment_CA</th>\n",
              "      <th>experiment_DA</th>\n",
              "      <th>experiment_SS</th>\n",
              "    </tr>\n",
              "  </thead>\n",
              "  <tbody>\n",
              "    <tr>\n",
              "      <th>3922410</th>\n",
              "      <td>8</td>\n",
              "      <td>52.050781</td>\n",
              "      <td>1</td>\n",
              "      <td>7.698060</td>\n",
              "      <td>19.987900</td>\n",
              "      <td>0.580998</td>\n",
              "      <td>1.888900</td>\n",
              "      <td>-1.19586</td>\n",
              "      <td>-2.764030</td>\n",
              "      <td>20.354200</td>\n",
              "      <td>...</td>\n",
              "      <td>8.556090</td>\n",
              "      <td>12.739200</td>\n",
              "      <td>1.65224</td>\n",
              "      <td>-1.849380</td>\n",
              "      <td>2825.320068</td>\n",
              "      <td>813.830017</td>\n",
              "      <td>732.801025</td>\n",
              "      <td>1</td>\n",
              "      <td>0</td>\n",
              "      <td>0</td>\n",
              "    </tr>\n",
              "    <tr>\n",
              "      <th>59981</th>\n",
              "      <td>1</td>\n",
              "      <td>203.246094</td>\n",
              "      <td>0</td>\n",
              "      <td>121.087997</td>\n",
              "      <td>25.092501</td>\n",
              "      <td>101.178001</td>\n",
              "      <td>26.024099</td>\n",
              "      <td>15.59370</td>\n",
              "      <td>14.670600</td>\n",
              "      <td>8.611060</td>\n",
              "      <td>...</td>\n",
              "      <td>14.161200</td>\n",
              "      <td>28.052099</td>\n",
              "      <td>31.47230</td>\n",
              "      <td>24.467199</td>\n",
              "      <td>-18033.000000</td>\n",
              "      <td>668.056030</td>\n",
              "      <td>638.755005</td>\n",
              "      <td>1</td>\n",
              "      <td>0</td>\n",
              "      <td>0</td>\n",
              "    </tr>\n",
              "    <tr>\n",
              "      <th>788807</th>\n",
              "      <td>2</td>\n",
              "      <td>50.542969</td>\n",
              "      <td>0</td>\n",
              "      <td>-7.460400</td>\n",
              "      <td>-6.365550</td>\n",
              "      <td>8.006610</td>\n",
              "      <td>11.029600</td>\n",
              "      <td>-2.86997</td>\n",
              "      <td>-0.671301</td>\n",
              "      <td>-8.621780</td>\n",
              "      <td>...</td>\n",
              "      <td>-10.729200</td>\n",
              "      <td>-10.149800</td>\n",
              "      <td>-16.56020</td>\n",
              "      <td>-9.711150</td>\n",
              "      <td>-5405.810059</td>\n",
              "      <td>735.765015</td>\n",
              "      <td>1007.609985</td>\n",
              "      <td>0</td>\n",
              "      <td>1</td>\n",
              "      <td>0</td>\n",
              "    </tr>\n",
              "    <tr>\n",
              "      <th>2503461</th>\n",
              "      <td>5</td>\n",
              "      <td>149.174011</td>\n",
              "      <td>1</td>\n",
              "      <td>11.191000</td>\n",
              "      <td>6.582320</td>\n",
              "      <td>5.184390</td>\n",
              "      <td>3.217950</td>\n",
              "      <td>3.01418</td>\n",
              "      <td>0.532353</td>\n",
              "      <td>-0.539637</td>\n",
              "      <td>...</td>\n",
              "      <td>9.669510</td>\n",
              "      <td>15.639800</td>\n",
              "      <td>13.98130</td>\n",
              "      <td>8.046190</td>\n",
              "      <td>6425.229980</td>\n",
              "      <td>796.077026</td>\n",
              "      <td>1029.140015</td>\n",
              "      <td>0</td>\n",
              "      <td>0</td>\n",
              "      <td>1</td>\n",
              "    </tr>\n",
              "    <tr>\n",
              "      <th>3775714</th>\n",
              "      <td>8</td>\n",
              "      <td>117.464005</td>\n",
              "      <td>0</td>\n",
              "      <td>-25.045099</td>\n",
              "      <td>-6.315980</td>\n",
              "      <td>-4.408160</td>\n",
              "      <td>0.746784</td>\n",
              "      <td>11.04310</td>\n",
              "      <td>-2.415870</td>\n",
              "      <td>-14.786100</td>\n",
              "      <td>...</td>\n",
              "      <td>0.049671</td>\n",
              "      <td>-11.325800</td>\n",
              "      <td>-15.58050</td>\n",
              "      <td>7.285000</td>\n",
              "      <td>28576.800781</td>\n",
              "      <td>671.978027</td>\n",
              "      <td>1631.300049</td>\n",
              "      <td>1</td>\n",
              "      <td>0</td>\n",
              "      <td>0</td>\n",
              "    </tr>\n",
              "  </tbody>\n",
              "</table>\n",
              "<p>5 rows × 29 columns</p>\n",
              "</div>"
            ],
            "text/plain": [
              "         crew        time  seat     eeg_fp1     eeg_f7      eeg_f8     eeg_t4  \\\n",
              "3922410     8   52.050781     1    7.698060  19.987900    0.580998   1.888900   \n",
              "59981       1  203.246094     0  121.087997  25.092501  101.178001  26.024099   \n",
              "788807      2   50.542969     0   -7.460400  -6.365550    8.006610  11.029600   \n",
              "2503461     5  149.174011     1   11.191000   6.582320    5.184390   3.217950   \n",
              "3775714     8  117.464005     0  -25.045099  -6.315980   -4.408160   0.746784   \n",
              "\n",
              "           eeg_t6     eeg_t5     eeg_t3      ...          eeg_poz     eeg_c3  \\\n",
              "3922410  -1.19586  -2.764030  20.354200      ...         8.556090  12.739200   \n",
              "59981    15.59370  14.670600   8.611060      ...        14.161200  28.052099   \n",
              "788807   -2.86997  -0.671301  -8.621780      ...       -10.729200 -10.149800   \n",
              "2503461   3.01418   0.532353  -0.539637      ...         9.669510  15.639800   \n",
              "3775714  11.04310  -2.415870 -14.786100      ...         0.049671 -11.325800   \n",
              "\n",
              "           eeg_cz     eeg_o2           ecg           r          gsr  \\\n",
              "3922410   1.65224  -1.849380   2825.320068  813.830017   732.801025   \n",
              "59981    31.47230  24.467199 -18033.000000  668.056030   638.755005   \n",
              "788807  -16.56020  -9.711150  -5405.810059  735.765015  1007.609985   \n",
              "2503461  13.98130   8.046190   6425.229980  796.077026  1029.140015   \n",
              "3775714 -15.58050   7.285000  28576.800781  671.978027  1631.300049   \n",
              "\n",
              "         experiment_CA  experiment_DA  experiment_SS  \n",
              "3922410              1              0              0  \n",
              "59981                1              0              0  \n",
              "788807               0              1              0  \n",
              "2503461              0              0              1  \n",
              "3775714              1              0              0  \n",
              "\n",
              "[5 rows x 29 columns]"
            ]
          },
          "metadata": {
            "tags": []
          },
          "execution_count": 20
        }
      ]
    },
    {
      "metadata": {
        "id": "Mj4Q_FQK4MFG",
        "colab_type": "code",
        "colab": {}
      },
      "cell_type": "code",
      "source": [
        ""
      ],
      "execution_count": 0,
      "outputs": []
    },
    {
      "metadata": {
        "id": "KaN-_5TuvGlp",
        "colab_type": "code",
        "colab": {}
      },
      "cell_type": "code",
      "source": [
        "model.compile(optimizer='adam',\n",
        "              loss='sparse_categorical_crossentropy',\n",
        "              metrics=['accuracy'])"
      ],
      "execution_count": 0,
      "outputs": []
    },
    {
      "metadata": {
        "id": "BL-FF5JEwZS1",
        "colab_type": "code",
        "colab": {
          "base_uri": "https://localhost:8080/",
          "height": 5105
        },
        "outputId": "7844ad54-0cf5-47b1-e5fe-d5e6d5361bd4"
      },
      "cell_type": "code",
      "source": [
        "model.fit(X_train, y_train, epochs=2, batch_size = 2048)"
      ],
      "execution_count": 19,
      "outputs": [
        {
          "output_type": "error",
          "ename": "ValueError",
          "evalue": "ignored",
          "traceback": [
            "\u001b[0;31m---------------------------------------------------------------------------\u001b[0m",
            "\u001b[0;31mValueError\u001b[0m                                Traceback (most recent call last)",
            "\u001b[0;32m<ipython-input-19-4eb584f01bdd>\u001b[0m in \u001b[0;36m<module>\u001b[0;34m()\u001b[0m\n\u001b[0;32m----> 1\u001b[0;31m \u001b[0mmodel\u001b[0m\u001b[0;34m.\u001b[0m\u001b[0mfit\u001b[0m\u001b[0;34m(\u001b[0m\u001b[0mX_train\u001b[0m\u001b[0;34m,\u001b[0m \u001b[0my_train\u001b[0m\u001b[0;34m,\u001b[0m \u001b[0mepochs\u001b[0m\u001b[0;34m=\u001b[0m\u001b[0;36m2\u001b[0m\u001b[0;34m,\u001b[0m \u001b[0mbatch_size\u001b[0m \u001b[0;34m=\u001b[0m \u001b[0;36m2048\u001b[0m\u001b[0;34m)\u001b[0m\u001b[0;34m\u001b[0m\u001b[0;34m\u001b[0m\u001b[0m\n\u001b[0m",
            "\u001b[0;32m/usr/local/lib/python3.6/dist-packages/tensorflow/python/keras/engine/training.py\u001b[0m in \u001b[0;36mfit\u001b[0;34m(self, x, y, batch_size, epochs, verbose, callbacks, validation_split, validation_data, shuffle, class_weight, sample_weight, initial_epoch, steps_per_epoch, validation_steps, max_queue_size, workers, use_multiprocessing, **kwargs)\u001b[0m\n\u001b[1;32m   1534\u001b[0m         \u001b[0msteps_name\u001b[0m\u001b[0;34m=\u001b[0m\u001b[0;34m'steps_per_epoch'\u001b[0m\u001b[0;34m,\u001b[0m\u001b[0;34m\u001b[0m\u001b[0;34m\u001b[0m\u001b[0m\n\u001b[1;32m   1535\u001b[0m         \u001b[0msteps\u001b[0m\u001b[0;34m=\u001b[0m\u001b[0msteps_per_epoch\u001b[0m\u001b[0;34m,\u001b[0m\u001b[0;34m\u001b[0m\u001b[0;34m\u001b[0m\u001b[0m\n\u001b[0;32m-> 1536\u001b[0;31m         validation_split=validation_split)\n\u001b[0m\u001b[1;32m   1537\u001b[0m \u001b[0;34m\u001b[0m\u001b[0m\n\u001b[1;32m   1538\u001b[0m     \u001b[0;31m# Prepare validation data.\u001b[0m\u001b[0;34m\u001b[0m\u001b[0;34m\u001b[0m\u001b[0;34m\u001b[0m\u001b[0m\n",
            "\u001b[0;32m/usr/local/lib/python3.6/dist-packages/tensorflow/python/keras/engine/training.py\u001b[0m in \u001b[0;36m_standardize_user_data\u001b[0;34m(self, x, y, sample_weight, class_weight, batch_size, check_steps, steps_name, steps, validation_split)\u001b[0m\n\u001b[1;32m    990\u001b[0m         \u001b[0mx\u001b[0m\u001b[0;34m,\u001b[0m \u001b[0my\u001b[0m\u001b[0;34m,\u001b[0m \u001b[0msample_weight\u001b[0m \u001b[0;34m=\u001b[0m \u001b[0mnext_element\u001b[0m\u001b[0;34m\u001b[0m\u001b[0;34m\u001b[0m\u001b[0m\n\u001b[1;32m    991\u001b[0m     x, y, sample_weights = self._standardize_weights(x, y, sample_weight,\n\u001b[0;32m--> 992\u001b[0;31m                                                      class_weight, batch_size)\n\u001b[0m\u001b[1;32m    993\u001b[0m     \u001b[0;32mreturn\u001b[0m \u001b[0mx\u001b[0m\u001b[0;34m,\u001b[0m \u001b[0my\u001b[0m\u001b[0;34m,\u001b[0m \u001b[0msample_weights\u001b[0m\u001b[0;34m\u001b[0m\u001b[0;34m\u001b[0m\u001b[0m\n\u001b[1;32m    994\u001b[0m \u001b[0;34m\u001b[0m\u001b[0m\n",
            "\u001b[0;32m/usr/local/lib/python3.6/dist-packages/tensorflow/python/keras/engine/training.py\u001b[0m in \u001b[0;36m_standardize_weights\u001b[0;34m(self, x, y, sample_weight, class_weight, batch_size)\u001b[0m\n\u001b[1;32m   1022\u001b[0m         \u001b[0;32mif\u001b[0m \u001b[0;32mnot\u001b[0m \u001b[0misinstance\u001b[0m\u001b[0;34m(\u001b[0m\u001b[0mx\u001b[0m\u001b[0;34m,\u001b[0m \u001b[0mnp\u001b[0m\u001b[0;34m.\u001b[0m\u001b[0mndarray\u001b[0m\u001b[0;34m)\u001b[0m \u001b[0;32mand\u001b[0m \u001b[0;32mnot\u001b[0m \u001b[0mtensor_util\u001b[0m\u001b[0;34m.\u001b[0m\u001b[0mis_tensor\u001b[0m\u001b[0;34m(\u001b[0m\u001b[0mx\u001b[0m\u001b[0;34m)\u001b[0m\u001b[0;34m:\u001b[0m\u001b[0;34m\u001b[0m\u001b[0;34m\u001b[0m\u001b[0m\n\u001b[1;32m   1023\u001b[0m           raise ValueError('Please provide as model inputs either a single '\n\u001b[0;32m-> 1024\u001b[0;31m                            'array or a list of arrays. You passed: x=' + str(x))\n\u001b[0m\u001b[1;32m   1025\u001b[0m         \u001b[0mall_inputs\u001b[0m\u001b[0;34m.\u001b[0m\u001b[0mappend\u001b[0m\u001b[0;34m(\u001b[0m\u001b[0mx\u001b[0m\u001b[0;34m)\u001b[0m\u001b[0;34m\u001b[0m\u001b[0;34m\u001b[0m\u001b[0m\n\u001b[1;32m   1026\u001b[0m \u001b[0;34m\u001b[0m\u001b[0m\n",
            "\u001b[0;31mValueError\u001b[0m: Please provide as model inputs either a single array or a list of arrays. You passed: x=         crew        time  seat     eeg_fp1      eeg_f7      eeg_f8  \\\n3922410     8   52.050781     1    7.698060   19.987900    0.580998   \n59981       1  203.246094     0  121.087997   25.092501  101.178001   \n788807      2   50.542969     0   -7.460400   -6.365550    8.006610   \n2503461     5  149.174011     1   11.191000    6.582320    5.184390   \n3775714     8  117.464005     0  -25.045099   -6.315980   -4.408160   \n2279980     5   80.534004     0  115.195999   96.708900   35.728901   \n4639274    13  345.070312     0   13.367600    9.391020   -1.331970   \n4267128     8  333.746094     1  -26.433399  -14.962000  -27.497400   \n2194940     5  254.397018     1   26.094900   13.127200    8.141010   \n2461390     5   75.925781     0   -4.865260   -7.626290  -35.834801   \n3747560     7   69.484001     1   -3.277510  -61.658199  -31.582800   \n2637054     5   60.184002     0    1.976220    2.574790  -12.489500   \n3402792     7  109.882812     0  208.658005   62.682800   51.376202   \n3016710     6    8.625000     0    6.771660    2.151570   -4.729930   \n3803585     8  166.894531     1   -5.581140   -2.043680   -2.030820   \n3269007     7  199.437012     1    5.245090  -11.207700    0.992601   \n2077154     4   48.223003     1   17.709200    1.592760   15.160300   \n1706851     4   44.858002     0    8.571480    8.744590    3.282560   \n2618224     5  350.318024     0  -66.209900  -45.432800  -62.012901   \n4412652    13  270.364014     0   24.453501  -10.222200   -4.397080   \n3366920     7   47.775002     1   45.083000   47.544800   22.447300   \n3675341     7  265.383026     1  -12.470700  -27.588200  -16.490601   \n1798354     4  204.570312     0  -20.458401  -13.719500  -16.042299   \n4566490    13  216.914062     0    2.509180   15.825300    0.103018   \n4292744     8   60.117004     0    7.072940   -2.179070    7.720760   \n1125761     3  318.667969     1   12.212100   -0.423659   -0.071758   \n4647938    13   37.144531     0  -29.120199  -18.503599  -22.493999   \n3012097     6   71.613281     1    8.085930    7.403850    3.219390   \n4268086     8  335.605469     1   -3.091450   -4.885460   -5.380860   \n802147      2   74.597656     0  -10.344000   -9.542400   -5.455690   \n...       ...         ...   ...         ...         ...         ...   \n4389073    13  229.311005     0   20.286100    4.624660  -45.038799   \n323900      1  343.750000     1   12.812800    6.703620   -4.463370   \n2467129     5   86.132812     1    7.519010    6.950630   19.211000   \n3935766     8   76.125000     1   -4.743540   -7.779720   -4.190430   \n4311869     8   94.490005     0   55.144199   20.341400   31.595900   \n3969343     8  133.882812     0    5.568940    6.384690   12.496900   \n99335       1  273.109375     1    1.806860   -2.778370   24.925900   \n4839401    13    5.269000     1    7.798400   -1.013390   -4.078350   \n4490326    13   84.005005     1   -7.819420   -7.384910  -14.925800   \n3589984     7  114.735008     0    0.122735  -12.115600    6.835680   \n4342513    13  147.341003     1   32.493301   22.952000   20.253099   \n412649      1   37.632812     1  343.246002  389.700012  205.156998   \n745431      2  298.832031     0   -2.129020   -9.398320    2.623580   \n2343474     5  191.652344     0  -14.165200  -22.431999  -22.605900   \n188317      1  104.941406     0   -0.345539    0.375652   -1.551970   \n4559516    13  204.292969     0   34.678101   25.221399    5.687520   \n401660      1   18.171875     0   -2.951590   -7.776170  -10.193800   \n4770260    13  251.023010     0   -7.050330    2.218400   -3.875430   \n3322213     7  292.415009     1   13.093700   15.141000   -2.029620   \n2610452     5  337.150024     0  -16.871901  -35.904499  -11.600700   \n1215878     3  152.816406     1    4.380490    6.135990    2.719820   \n3063756     6  161.539062     1   16.750900   44.216301   -3.173970   \n413825      1   39.929688     1  -33.366901  -35.234901  -33.201000   \n2326672     5  161.835938     0    3.459380    3.433690    3.699390   \n1166159     3   66.683594     1  -11.464200    5.517740   -8.727950   \n4267653     8  334.738281     1   13.705000    7.083300   18.942801   \n491263      2  175.207031     1    0.904442   -0.540583    0.472684   \n3937352     8   79.238281     1    7.950360   14.545100    0.604956   \n4686059    13  102.611008     0    8.742640  -14.697400  -17.165600   \n4322341    13  110.936005     0  -16.287399    1.436090   -5.236540   \n\n             eeg_t4      eeg_t6      eeg_t5      eeg_t3      ...        \\\n3922410    1.888900   -1.195860   -2.764030   20.354200      ...         \n59981     26.024099   15.593700   14.670600    8.611060      ...         \n788807    11.029600   -2.869970   -0.671301   -8.621780      ...         \n2503461    3.217950    3.014180    0.532353   -0.539637      ...         \n3775714    0.746784   11.043100   -2.415870  -14.786100      ...         \n2279980   10.813000  -36.172798   -0.629639   -4.524710      ...         \n4639274  -17.747999  -13.199700  -18.117399  -14.487000      ...         \n4267128  -10.858500    1.374900    7.937260  -11.396100      ...         \n2194940    7.990760   15.958400   16.993299   12.239300      ...         \n2461390   -7.171110  -42.393299  -26.060101  -25.797300      ...         \n3747560   12.110500   12.672300  -12.440500  -25.316099      ...         \n2637054   11.039200   10.626800  -12.411300   -3.606850      ...         \n3402792    7.334110   -5.733810    5.386550   21.123600      ...         \n3016710   -2.016630    2.560260   11.677200    5.160610      ...         \n3803585    5.596560    2.027730    0.000000   11.451300      ...         \n3269007   16.826599   14.653300    6.714240    0.637061      ...         \n2077154    6.785720  -13.663000    5.088100    0.139208      ...         \n1706851    4.376280    9.895420   -2.459350    6.122370      ...         \n2618224    6.827030   -3.114990   24.912800  -36.459599      ...         \n4412652  -14.544900    6.751090    4.919200   -7.339070      ...         \n3366920   19.007500   13.024700   12.395100   43.398701      ...         \n3675341   -0.606950   -1.114570   -9.248670   -1.563410      ...         \n1798354  -17.569901  -12.314800   -3.762130  -15.168400      ...         \n4566490  -10.369600   -3.102100    8.722200    9.113240      ...         \n4292744    5.571610    8.679190   -1.181330    1.358500      ...         \n1125761   -7.254670    3.749410   -1.654170   -2.741240      ...         \n4647938  -27.115999  -22.692499  -30.956900  -31.153900      ...         \n3012097    3.319600   -4.218730    0.997377    7.226300      ...         \n4268086  -11.262800    1.896590   -8.136050   -7.930370      ...         \n802147    10.039300  -11.627400   -1.157810  -13.241200      ...         \n...             ...         ...         ...         ...      ...         \n4389073   13.766300   10.405500   23.686399   22.269300      ...         \n323900     1.322280   -3.679620   -0.833285   -1.194840      ...         \n2467129   17.346100   13.301000    1.188780    9.705160      ...         \n3935766   -3.698190   -5.041030   -0.508572  -29.070999      ...         \n4311869   -9.833560   -5.961830    1.518600    7.813560      ...         \n3969343   16.513201   10.160700    3.512140    7.865400      ...         \n99335     19.599001   16.084801    0.158350   -4.268960      ...         \n4839401   -3.413930  -14.049000   -3.390220    4.050830      ...         \n4490326  -22.111500  -14.207900  -11.208500  -13.831600      ...         \n3589984    2.640620   -5.751350   -9.312090  -15.427200      ...         \n4342513   12.484600    0.975976    5.766700   14.319000      ...         \n412649   285.574005  287.079010  292.847992  290.931000      ...         \n745431    -0.130001   -5.473110  -10.730600  -10.379000      ...         \n2343474   10.867900   21.169701  -14.458000  -10.359000      ...         \n188317     0.172606    1.189320   -8.470390    4.609620      ...         \n4559516   -7.782580  -10.581700   -1.806960    0.881824      ...         \n401660    -3.247850  -10.205000    1.838330    4.916520      ...         \n4770260  -16.374001   18.731100   -1.916940    7.442670      ...         \n3322213   11.400300   15.551800    7.200410    3.099790      ...         \n2610452   -7.676400   -3.299750  -17.067200  -35.744801      ...         \n1215878    6.205990    8.096010    8.598780    1.776850      ...         \n3063756   10.062300    8.705440    3.116810   12.394500      ...         \n413825   -20.966499  -60.262501  -61.783401  -44.999298      ...         \n2326672   21.266001   -1.118290   12.311700   -0.458994      ...         \n1166159   -5.659680   -6.424130    1.800230    0.536934      ...         \n4267653   15.602600   13.021700    9.114200    9.106240      ...         \n491263     7.972940   -6.175480   -5.318150    0.000000      ...         \n3937352   18.251301   14.068300    8.535320   21.889400      ...         \n4686059   10.361600    9.748070    6.117020    2.565350      ...         \n4322341    2.264040   -2.318640   -5.282140    3.890020      ...         \n\n            eeg_poz      eeg_c3      eeg_cz      eeg_o2           ecg  \\\n3922410    8.556090   12.739200    1.652240   -1.849380   2825.320068   \n59981     14.161200   28.052099   31.472300   24.467199 -18033.000000   \n788807   -10.729200  -10.149800  -16.560200   -9.711150  -5405.810059   \n2503461    9.669510   15.639800   13.981300    8.046190   6425.229980   \n3775714    0.049671  -11.325800  -15.580500    7.285000  28576.800781   \n2279980    2.622750   -8.212970    4.565410    4.109450  -2355.979980   \n4639274  -22.988100  -14.928800  -11.057000  -32.003700 -16048.200195   \n4267128  -12.606400  -11.765900  -10.786000   -4.888680   5278.529785   \n2194940   26.906300   12.301800   12.688600   21.508699   6177.040039   \n2461390  -25.406500  -18.199301  -24.606800  -29.877199  -2467.949951   \n3747560  -14.463600    6.300700  -13.202000   -9.421780  19081.699219   \n2637054   -9.837240   -4.027710   -5.561100  -14.919800  -1533.560059   \n3402792   -6.288530   20.079901   21.653500   -8.080410   3233.560059   \n3016710    9.821500    8.298020    3.110520    5.691710  33352.699219   \n3803585   -2.167730   -4.964380   -1.140830   -4.851620   7413.709961   \n3269007    6.660430    3.616920   12.125900   13.385800  17192.599609   \n2077154   -8.234400   15.464200   12.454000  -24.318001   5887.109863   \n1706851    7.090640    7.686120    3.956940    5.059380   -740.030029   \n2618224  -21.253201   11.349700  -26.724501  -11.118200   -888.122986   \n4412652    2.827510    0.743100    1.287330   -2.783400 -16771.800781   \n3366920   16.236900   26.730400   20.325500   14.980300  16527.099609   \n3675341   -4.846560   -6.295320  -30.457899  109.044998  19541.599609   \n1798354   -8.371370   -4.533320  -15.123100   -0.555707   -765.862976   \n4566490    7.293330   14.979600    7.300620   10.200100 -16660.599609   \n4292744    0.588141    4.570120   -1.383790    8.603920  28480.900391   \n1125761   11.409100    5.912200    7.660390    9.232620   8683.110352   \n4647938  -31.097601  -29.012199  -29.159800  -29.449499 -16047.799805   \n3012097   -3.516880    4.114600   -5.380770   -7.507790  12947.200195   \n4268086  -12.790300   -7.133570  -13.621900   -3.697020   5319.000000   \n802147    -7.995580  -18.634701  -11.988400  -14.134600  -4697.399902   \n...             ...         ...         ...         ...           ...   \n4389073   17.596901   22.777399   21.632000   15.240500 -16532.900391   \n323900    -6.167320    9.280130   36.516201   -5.776550  -3630.219971   \n2467129   11.618500    5.862830   14.449800   13.476200   6458.359863   \n3935766  -10.698600   -8.527930   -9.009880   -0.652187   4355.330078   \n4311869    9.842720    3.485950    5.766450    5.310320  28784.199219   \n3969343    7.905700   13.087900   22.237499    0.000000  26506.000000   \n99335     10.434400    9.328550   36.562000    7.249720  -5123.350098   \n4839401  -11.805700   -8.192640   -1.722930  -12.718000  -8046.419922   \n4490326  -10.999900  -10.690200  -15.799000   -6.758870  -8637.120117   \n3589984   -5.810810  -10.017600   -4.030370   -8.097310   6235.229980   \n4342513   -3.310500   14.172000    1.829830   -8.718460  -7775.560059   \n412649   310.839996  320.802002  135.981995  316.441010  -4836.169922   \n745431    -4.348220   -8.698780  -10.384800   -4.715060  -5158.049805   \n2343474  -10.023200  -12.788300  -13.514600  -10.975800  -2257.729980   \n188317     5.881820    9.348650    2.880090    6.300390      0.000000   \n4559516   -7.386830  -14.065900   -3.121110  -10.424700 -16663.199219   \n401660    -0.780663   -5.416980   -4.755660   -0.694655 -13216.200195   \n4770260   11.073200   -6.181100    0.000000   13.145900 -14442.000000   \n3322213   18.221701    6.622000   17.321199   21.398500  17609.000000   \n2610452  -19.055500  -24.952499  -18.305500  -19.787201   -833.713013   \n1215878    3.677550   12.532300   11.225500    1.906520  17230.699219   \n3063756   16.480200   13.788700   21.344999   13.978500   9138.339844   \n413825   -48.338699  -34.243000  -31.416100  -51.636299  -4724.930176   \n2326672    5.879930    3.600380    9.203130    7.036450  -2184.600098   \n1166159   -3.880410   -1.823540   -5.289460   -7.976520   8412.429688   \n4267653   12.272300   17.959499   16.586100   13.299700   5330.299805   \n491263     2.025420    2.407340   -0.663467    3.116930   9075.299805   \n3937352   12.373800   14.278700    4.486360    7.776810   4127.939941   \n4686059   13.385600    8.328130    4.029040    7.932200 -13598.500000   \n4322341   -5.175320   -0.853544    6.526070   -2.335710 -16568.099609   \n\n                  r          gsr  experiment_CA  experiment_DA  experiment_SS  \n3922410  813.830017   732.801025              1              0              0  \n59981    668.056030   638.755005              1              0              0  \n788807   735.765015  1007.609985              0              1              0  \n2503461  796.077026  1029.140015              0              0              1  \n3775714  671.978027  1631.300049              1              0              0  \n2279980  658.737000  1264.099976              1              0              0  \n4639274  681.473022   388.923004              0              1              0  \n4267128  808.843018   708.942017              0              0              1  \n2194940  799.812988  1897.089966              1              0              0  \n2461390  647.942017  1648.160034              0              1              0  \n3747560  820.289001   509.520996              0              0              1  \n2637054  652.507996  1485.849976              0              0              1  \n3402792  716.330994     0.000000              0              1              0  \n3016710  654.551025   932.049011              0              1              0  \n3803585  811.210022   870.533020              1              0              0  \n3269007  831.047974   706.236023              1              0              0  \n2077154  823.674011   565.258972              0              0              1  \n1706851  605.903992   898.094971              1              0              0  \n2618224  638.533997  1126.170044              0              0              1  \n4412652  679.750000   556.297974              1              0              0  \n3366920  829.643005   595.077026              1              0              0  \n3675341  822.020996   660.643982              0              0              1  \n1798354  600.708984   887.614014              0              1              0  \n4566490  682.646973   390.156006              0              1              0  \n4292744  701.536987  1526.050049              0              0              1  \n1125761  801.630005   430.029999              1              0              0  \n4647938  678.466003   358.216003              0              1              0  \n3012097  792.940002  1677.500000              0              1              0  \n4268086  807.622009   798.249023              0              0              1  \n802147   734.210022  1050.780029              0              1              0  \n...             ...          ...            ...            ...            ...  \n4389073  679.276001   562.120972              1              0              0  \n323900   815.908997   528.473022              0              1              0  \n2467129  808.322998     0.000000              0              1              0  \n3935766  814.481018   778.947998              1              0              0  \n4311869  700.562012  1481.699951              0              0              1  \n3969343  674.551025  1632.910034              0              1              0  \n99335    817.854004   549.791992              1              0              0  \n4839401  779.364014  1020.929993              0              0              1  \n4490326  797.564026   795.723999              1              0              0  \n3589984  725.601013  1346.089966              0              0              1  \n4342513  799.059021   825.377014              1              0              0  \n412649   820.390015   515.607971              0              0              1  \n745431   733.310974  1249.130005              0              1              0  \n2343474  649.801025  1724.069946              0              1              0  \n188317   659.244019   697.723999              0              1              0  \n4559516  682.325989   398.411011              0              1              0  \n401660   659.299988   796.729004              0              0              1  \n4770260  677.260010   480.566986              0              0              1  \n3322213  831.239990   714.236023              1              0              0  \n2610452  649.148010  1310.050049              0              0              1  \n1215878  819.388000   606.942993              0              1              0  \n3063756  797.890015  1814.089966              0              0              1  \n413825   819.627991   494.227997              0              0              1  \n2326672  650.586975  1706.290039              0              1              0  \n1166159  799.757996   445.567993              1              0              0  \n4267653  808.080994   765.393982              0              0              1  \n491263   816.955994     0.000000              1              0              0  \n3937352  814.497009   803.630005              1              0              0  \n4686059  673.526978   553.010986              0              0              1  \n4322341  678.992981   505.653015              1              0              0  \n\n[2920452 rows x 29 columns]"
          ]
        }
      ]
    },
    {
      "metadata": {
        "id": "mO1b_sC4y-Le",
        "colab_type": "code",
        "colab": {}
      },
      "cell_type": "code",
      "source": [
        "l"
      ],
      "execution_count": 0,
      "outputs": []
    }
  ]
}